{
 "cells": [
  {
   "cell_type": "code",
   "execution_count": 6,
   "metadata": {
    "collapsed": true
   },
   "outputs": [],
   "source": [
    "## PRE-EXECUTION CODE\n",
    "import re"
   ]
  },
  {
   "cell_type": "markdown",
   "metadata": {},
   "source": [
    "<!-- TITLE for 1 -->\n",
    "## Lists"
   ]
  },
  {
   "cell_type": "markdown",
   "metadata": {},
   "source": [
    "A list is a very popular data structure that you will see used frequently in Python.\n",
    "<pre>grocery_list = ['apple', 'banana', 'pear']</pre>\n"
   ]
  },
  {
   "cell_type": "markdown",
   "metadata": {},
   "source": [
    "A list is an ordered collection of elements. An element can be any Python datatype, including strings, number, and even other lists.\n",
    "<pre>my_list = ['one', 2, [3, 'tres','three']]</pre>"
   ]
  },
  {
   "cell_type": "markdown",
   "metadata": {},
   "source": [
    "<!--Turn into slide-->\n",
    "Lists are enclosed in square brackets<pre>[1, 2, 3, 4]</pre> with each element separated by a comma."
   ]
  },
  {
   "cell_type": "markdown",
   "metadata": {},
   "source": [
    "Lists are mutable, meaning they can be modified."
   ]
  },
  {
   "cell_type": "code",
   "execution_count": null,
   "metadata": {
    "collapsed": true
   },
   "outputs": [],
   "source": [
    "## CHALLENGE\n",
    "1"
   ]
  },
  {
   "cell_type": "code",
   "execution_count": 1,
   "metadata": {
    "collapsed": true
   },
   "outputs": [],
   "source": [
    "## STARTER CODE for 1\n"
   ]
  },
  {
   "cell_type": "code",
   "execution_count": 2,
   "metadata": {
    "collapsed": true,
    "type": "title"
   },
   "outputs": [],
   "source": [
    "## SOLUTION CODE for 1\n",
    "blank_list = []"
   ]
  },
  {
   "cell_type": "markdown",
   "metadata": {},
   "source": [
    "<!-- TASK for 1.1 -->\n",
    "Create a blank list with no elements in it. Assign this blank list to a variable named <span class=\"girk\">blank_list</span>."
   ]
  },
  {
   "cell_type": "markdown",
   "metadata": {},
   "source": [
    "<!-- HINT for 1.1 -->\n",
    "To initialize a blank list, just use [] with nothing between the square brackets."
   ]
  },
  {
   "cell_type": "code",
   "execution_count": 485,
   "metadata": {},
   "outputs": [
    {
     "name": "stdout",
     "output_type": "stream",
     "text": [
      "K44: Success\n"
     ]
    }
   ],
   "source": [
    "## TEST for 1.1\n",
    "try:\n",
    "    assert type(blank_list) == list, \"Make sure blank_list is a list type\"\n",
    "    assert len(blank_list) == 0, \"Make sure the list does not have any items in it\"\n",
    "    print(\"K44: Success\")\n",
    "except AssertionError as e:\n",
    "    print(e.args[0])"
   ]
  },
  {
   "cell_type": "markdown",
   "metadata": {},
   "source": [
    "#CHALLENGE\n",
    "2"
   ]
  },
  {
   "cell_type": "markdown",
   "metadata": {},
   "source": [
    "#### STARTER\n",
    "-"
   ]
  },
  {
   "cell_type": "markdown",
   "metadata": {},
   "source": [
    "<!-- TASK for 1.2 -->\n",
    "Create a list with only <span class=\"girk\">integer</span> elements in it. Assign this list to a variable named <span class=\"girk\">int_list</span>."
   ]
  },
  {
   "cell_type": "code",
   "execution_count": null,
   "metadata": {
    "collapsed": true
   },
   "outputs": [],
   "source": [
    "# SOLUTION\n",
    "int_list = [1, 2, 3, 4, 5]"
   ]
  },
  {
   "cell_type": "markdown",
   "metadata": {},
   "source": [
    "<!-- HINT for 1.2 -->\n",
    "Remember to separate each element by a comma."
   ]
  },
  {
   "cell_type": "code",
   "execution_count": 23,
   "metadata": {},
   "outputs": [
    {
     "name": "stdout",
     "output_type": "stream",
     "text": [
      "name 'int_list' is not defined\n"
     ]
    }
   ],
   "source": [
    "## TEST\n",
    "try:\n",
    "    assert len([i for i in int_list if type(i) == int]) == len(int_list)\n",
    "    print(\"K44: Success\")\n",
    "except (AssertionError,NameError) as e:\n",
    "    print(e.args[0])    "
   ]
  },
  {
   "cell_type": "code",
   "execution_count": 5,
   "metadata": {},
   "outputs": [
    {
     "name": "stdout",
     "output_type": "stream",
     "text": [
      "name 'int_list' is not defined\n"
     ]
    }
   ],
   "source": [
    "## TEST for 1.2\n",
    "try:\n",
    "    assert type(int_list) == list, \"Make sure int_list is a list type\"\n",
    "    assert len(int_list) > 0, \"Make sure int_list has some values in it\"\n",
    "    # checks each value in the list and if it's an int does nothing\n",
    "    assert len([i for i in int_list if type(i) == int]) == len(int_list), \" Make sure int_list only has integer values\"\n",
    "    print(\"K44: Success\")\n",
    "except (AssertionError,NameError) as e:\n",
    "    print(e.args[0])"
   ]
  },
  {
   "cell_type": "code",
   "execution_count": 6,
   "metadata": {},
   "outputs": [
    {
     "data": {
      "text/plain": [
       "3"
      ]
     },
     "execution_count": 6,
     "metadata": {},
     "output_type": "execute_result"
    }
   ],
   "source": [
    "#CHALLENGE\n",
    "3"
   ]
  },
  {
   "cell_type": "code",
   "execution_count": null,
   "metadata": {
    "collapsed": true
   },
   "outputs": [],
   "source": [
    "# STARTER\n",
    "-"
   ]
  },
  {
   "cell_type": "markdown",
   "metadata": {},
   "source": [
    "<!-- TASK for 1.3 -->\n",
    "Create a list with only <span class=\"girk\">string</span> elements in it. Assign this list to a variable named <span class=\"girk\">str_list</span>"
   ]
  },
  {
   "cell_type": "markdown",
   "metadata": {},
   "source": [
    "<!-- HINT for 1.3 -->\n",
    "Remember to place each string element in single or double quotes to indicate a string data type."
   ]
  },
  {
   "cell_type": "code",
   "execution_count": null,
   "metadata": {
    "collapsed": true
   },
   "outputs": [],
   "source": [
    "# SOLUTION\n",
    "str_list = [\"a\", \"b\", \"c\", \"d\", \"e\"]"
   ]
  },
  {
   "cell_type": "code",
   "execution_count": 501,
   "metadata": {},
   "outputs": [
    {
     "name": "stdout",
     "output_type": "stream",
     "text": [
      "K44: Success\n"
     ]
    }
   ],
   "source": [
    "## TEST for 1.3\n",
    "try:\n",
    "    assert type(str_list) == list, \"Make sure str_list is a list type\"\n",
    "    assert len(str_list) > 0, \"Make sure str_list has some values in it\"\n",
    "    # checks each value in the list and if it's a string does nothing\n",
    "    assert len([i for i in str_list if type(i) == str]) == len(str_list), \" Make sure str_list only has string values\"\n",
    "    print(\"K44: Success\")\n",
    "except AssertionError as e:\n",
    "    print(e.args[0])"
   ]
  },
  {
   "cell_type": "markdown",
   "metadata": {},
   "source": [
    "<!-- CHOICE-->\n",
    "1"
   ]
  },
  {
   "cell_type": "markdown",
   "metadata": {},
   "source": [
    "<!-- TITLE for 2 -->\n",
    "## List indexing"
   ]
  },
  {
   "cell_type": "markdown",
   "metadata": {},
   "source": [
    "<!-- CONCEPT for 2 -->\n",
    "When working with a list, you will often want to select specific elements from that list. To do this, you can select values by their index location, an integer value referring to the sequence of an item in that list.\n",
    "<pre>my_list[1]</pre>"
   ]
  },
  {
   "cell_type": "markdown",
   "metadata": {},
   "source": [
    "It is important to note that lists are zero-indexed, i.e. they start counting from 0, so the first element in a list is at index 0 not index 1.\n",
    "<pre>olympic_medal = ['gold', 'silver', 'bronze']\n",
    "first_place = olympic_medal[0]</pre>"
   ]
  },
  {
   "cell_type": "markdown",
   "metadata": {},
   "source": [
    "<!-- Turn into slide -->\n",
    "Index positions are indicated by using square brackets immediately following the list object.\n",
    "<pre>olympic_medal[1]</pre>"
   ]
  },
  {
   "cell_type": "markdown",
   "metadata": {},
   "source": [
    "#CHALLENGE\n",
    "1"
   ]
  },
  {
   "cell_type": "code",
   "execution_count": 10,
   "metadata": {
    "collapsed": true
   },
   "outputs": [],
   "source": [
    "## STARTER CODE\n",
    "olympic_medal = ['gold', 'silver', 'bronze']\n",
    "first_place = olympic_medal[0]"
   ]
  },
  {
   "cell_type": "markdown",
   "metadata": {},
   "source": [
    "<!-- TASK for 2.1 -->\n",
    "Create a variable called second_place."
   ]
  },
  {
   "cell_type": "code",
   "execution_count": null,
   "metadata": {
    "collapsed": true
   },
   "outputs": [],
   "source": [
    "<!-- TASK for 2.1 -->\n",
    "Set the variable equal to the 2nd element in the olympic_medal list."
   ]
  },
  {
   "cell_type": "code",
   "execution_count": 3,
   "metadata": {
    "collapsed": true
   },
   "outputs": [],
   "source": [
    "# SOLUTION\n",
    "olympic_medal = ['gold', 'silver', 'bronze']\n",
    "first_place = olympic_medal[0]\n",
    "second_place = olympic_medal[1]"
   ]
  },
  {
   "cell_type": "markdown",
   "metadata": {},
   "source": [
    "<!-- HINT for 2.1 -->\n",
    "Remember to access index positions by passing an integer value into square brackets."
   ]
  },
  {
   "cell_type": "code",
   "execution_count": 4,
   "metadata": {},
   "outputs": [
    {
     "name": "stdout",
     "output_type": "stream",
     "text": [
      "K44: Success\n"
     ]
    }
   ],
   "source": [
    "## TEST for 2.1.1\n",
    "try:\n",
    "    second_place\n",
    "    print(\"K44: Success\")\n",
    "except (AssertionError, NameError) as e:\n",
    "    print(e.args[0])"
   ]
  },
  {
   "cell_type": "code",
   "execution_count": 7,
   "metadata": {},
   "outputs": [
    {
     "name": "stdout",
     "output_type": "stream",
     "text": [
      "K44: Success\n"
     ]
    }
   ],
   "source": [
    "## TEST 2.1.2\n",
    "try:\n",
    "    assert re.search(r\"olympic_medal\\[\\s*?1\\s*?\\]\", In[3]), \"Make sure you are accessing the element located at index position 1\"\n",
    "    print(\"K44: Success\")\n",
    "except (AssertionError, NameError) as e:\n",
    "    print(e.args[0])"
   ]
  },
  {
   "cell_type": "code",
   "execution_count": null,
   "metadata": {
    "collapsed": true
   },
   "outputs": [],
   "source": [
    "#CHALLENGE\n",
    "2"
   ]
  },
  {
   "cell_type": "code",
   "execution_count": null,
   "metadata": {
    "collapsed": true
   },
   "outputs": [],
   "source": [
    "STARTER\n",
    "-"
   ]
  },
  {
   "cell_type": "markdown",
   "metadata": {},
   "source": [
    "<!-- TASK for 2.2 -->\n",
    "Access the last element in the list."
   ]
  },
  {
   "cell_type": "markdown",
   "metadata": {},
   "source": [
    "<!-- HINT For 2.2 -->\n",
    "Remember index values start at 0."
   ]
  },
  {
   "cell_type": "code",
   "execution_count": 10,
   "metadata": {},
   "outputs": [
    {
     "name": "stdout",
     "output_type": "stream",
     "text": [
      "While this is correct we are looking for olympic_medal[2] as the response\n"
     ]
    }
   ],
   "source": [
    "## TEST for 2.2\n",
    "try:\n",
    "    assert not re.search(r\"olympic_medal\\[\\s*?1\\s*?\\]\", In[8]), \"The index value you've chosen does not correspond to the last item in the list\"\n",
    "    assert not re.search(r\"olympic_medal\\[\\s*?-1\\s*?\\]\", In[8]), \"While this is correct we are looking for olympic_medal[2] as the response\"\n",
    "    assert not re.search(r\"olympic_medal\\[\\s*?3\\s*?\\]\", In[8]), \"Remember in a list with 3 values the index positions are 0, 1, and 2\"\n",
    "    print(\"K44: Great job with becoming an olympian\")\n",
    "except(AssertionError, NameError) as e:\n",
    "    print(e.args[0])"
   ]
  },
  {
   "cell_type": "code",
   "execution_count": 11,
   "metadata": {},
   "outputs": [
    {
     "data": {
      "text/plain": [
       "'bronze'"
      ]
     },
     "execution_count": 11,
     "metadata": {},
     "output_type": "execute_result"
    }
   ],
   "source": [
    "## SOLUTION CODE\n",
    "olympic_medal = ['gold', 'silver', 'bronze']\n",
    "\n",
    "olympic_medal[2]\n"
   ]
  },
  {
   "cell_type": "code",
   "execution_count": null,
   "metadata": {
    "collapsed": true
   },
   "outputs": [],
   "source": [
    "## CHOICE\n",
    "1"
   ]
  },
  {
   "cell_type": "markdown",
   "metadata": {},
   "source": [
    "<!-- TITLE for 3 -->\n",
    "## Appending to a list"
   ]
  },
  {
   "cell_type": "markdown",
   "metadata": {},
   "source": [
    "<!-- CONCEPT for 3 -->\n",
    "One of the most useful things about lists is that they are mutable, meaning that you can add and remove values from them very easily."
   ]
  },
  {
   "cell_type": "markdown",
   "metadata": {},
   "source": [
    "One such method to do this is the <span class=\"girk\">.append()</span> method. This method allows you to add a value to the end of any list.\n",
    "<pre>grocery_list.append(\"kiwi\")</pre>"
   ]
  },
  {
   "cell_type": "markdown",
   "metadata": {},
   "source": [
    "You can also pass a variable into the method. This will append the value of that variable to the list.\n",
    "<pre>grocery_item = 'sugar snap peas'\n",
    "grocery_list.append(grocery_item)</pre>"
   ]
  },
  {
   "cell_type": "code",
   "execution_count": 4,
   "metadata": {},
   "outputs": [
    {
     "data": {
      "text/plain": [
       "1"
      ]
     },
     "execution_count": 4,
     "metadata": {},
     "output_type": "execute_result"
    }
   ],
   "source": [
    "# CHALLENGE\n",
    "1"
   ]
  },
  {
   "cell_type": "code",
   "execution_count": 101,
   "metadata": {
    "collapsed": true
   },
   "outputs": [],
   "source": [
    "## STARTER CODE\n",
    "car_list=['Ford Mercury','Dodge Viper','Jeep Liberty','Volkswagen Bug']"
   ]
  },
  {
   "cell_type": "markdown",
   "metadata": {},
   "source": [
    "<!-- TASK for 3.1 -->\n",
    "Use <span class=\"girk\">.append()</span> to add any value to our <span class=\"girk\">car_list</span>."
   ]
  },
  {
   "cell_type": "markdown",
   "metadata": {},
   "source": [
    "<!-- HINT for 3.1 -->\n",
    "Since <span class=\"girk\">.append()</span> is a method available to all lists you would want to call the method following the list name."
   ]
  },
  {
   "cell_type": "markdown",
   "metadata": {},
   "source": [
    "<!-- TASK for 3.2 -->\n",
    "Create a new variable named <span class=\"girk\">new_car</span> and assign it any value. Append this value to the <span class=\"girk\">car_list</span> by passing the variable name into the <span class=\"girk\">.append()</span> method."
   ]
  },
  {
   "cell_type": "code",
   "execution_count": 15,
   "metadata": {},
   "outputs": [
    {
     "name": "stdout",
     "output_type": "stream",
     "text": [
      "['Ford Mercury', 'Dodge Viper', 'Jeep Liberty', 'Volkswagen Bug', 'Ford Fusion', 'BMW 3']\n"
     ]
    }
   ],
   "source": [
    "## SOLUTION CODE\n",
    "car_list=['Ford Mercury','Dodge Viper','Jeep Liberty','Volkswagen Bug']\n",
    "car_list.append(\"Ford Fusion\")\n",
    "new_car = 'BMW 3'\n",
    "car_list.append(new_car)\n",
    "print(car_list)"
   ]
  },
  {
   "cell_type": "code",
   "execution_count": 17,
   "metadata": {},
   "outputs": [
    {
     "name": "stdout",
     "output_type": "stream",
     "text": [
      "K44: Great job\n"
     ]
    }
   ],
   "source": [
    "## TEST for 3.1\n",
    "try:\n",
    "    assert re.search(r\"car_list\\.append\", In[15]), \"Make sure you attach .append() to the end of the list name\"\n",
    "    print(\"K44: Great job\")\n",
    "except AssertionError as e:\n",
    "    print(e.args[0])"
   ]
  },
  {
   "cell_type": "markdown",
   "metadata": {},
   "source": [
    "<!-- HINT for 3.2 -->\n",
    "Remember you can pass variables into the <span class=\"girk\">.append()</span> method as you would with any other Python datatype."
   ]
  },
  {
   "cell_type": "code",
   "execution_count": 19,
   "metadata": {},
   "outputs": [
    {
     "name": "stdout",
     "output_type": "stream",
     "text": [
      "K44: Great job\n"
     ]
    }
   ],
   "source": [
    "## TEST for 3.2\n",
    "try:\n",
    "    assert re.search(r\"car_list\\.append\", In[15]), \"Make sure you attach .append() to the end of the list name\"\n",
    "    assert re.search(r\"append\\(\\s*?new_car\\s*?\\)\", In[15]), \"Make sure you add new_car into the .append() parenthesis\"\n",
    "    print(\"K44: Great job\")\n",
    "except AssertionError as e:\n",
    "    print(e.args[0])"
   ]
  },
  {
   "cell_type": "markdown",
   "metadata": {},
   "source": [
    "<!-- TASK for 3.3 -->\n",
    "Print the list to see the values you added. To do this, use the command <span class='girk'>print(car_list)</span>"
   ]
  },
  {
   "cell_type": "markdown",
   "metadata": {},
   "source": [
    "<!-- HINT for 3.3 -->\n",
    "Use a print statement as you would with any other variable."
   ]
  },
  {
   "cell_type": "code",
   "execution_count": 22,
   "metadata": {},
   "outputs": [
    {
     "name": "stdout",
     "output_type": "stream",
     "text": [
      "K44: Congrats, you just won a brand new car!\n"
     ]
    }
   ],
   "source": [
    "## TEST for 3.3\n",
    "import re\n",
    "try:\n",
    "    assert re.search(r\"car_list\\.append\", In[15]), \"Make sure you attach .append() to the end of the list name\"\n",
    "    assert re.search(r\"append\\(\\s*?new_car\\s*?\\)\", In[15]), \"Make sure you add new_car into the .append() parenthesis\"\n",
    "    assert re.search(r\"car_list[\\)\\s]*?$\", In[15]), \"Remember to output the car_list e.g. print(car_list) or car_list\"\n",
    "    print(\"K44: Congrats, you just won a brand new Ford Pinto!\")\n",
    "except AssertionError as e:\n",
    "    print(e.args[0])"
   ]
  },
  {
   "cell_type": "markdown",
   "metadata": {},
   "source": [
    "<!-- TITLE for 4 -->\n",
    "## List Length"
   ]
  },
  {
   "cell_type": "markdown",
   "metadata": {},
   "source": [
    "<!-- CONCEPT for 4 -->\n",
    "It is often helpful to know the given length of a list. In Python, you can use the <span class=\"girk\">len()</span> function to find the length of a list and many other Python datatypes."
   ]
  },
  {
   "cell_type": "markdown",
   "metadata": {},
   "source": [
    "<pre>grocery_list = ['grapes', 'carrots', 'blueberries', 'pomegranate']\n",
    "len(grocery_list)\n",
    "<samp>4</samp></pre>"
   ]
  },
  {
   "cell_type": "markdown",
   "metadata": {},
   "source": [
    "For instance, you may want to run a function that will perform an operation on each element in a list. To do this, you would need to know the length of the list. However, if the length is frequently changing, you cannot hard code the value of the length. The function <span class=\"girk\">len()</span> can be used to find the length of a list."
   ]
  },
  {
   "cell_type": "markdown",
   "metadata": {},
   "source": [
    "The length function is used frequently to iterate over an entire list with a for loop\n",
    "<pre>for item in range(len(my_list)):\n",
    "    print(item)</pre>"
   ]
  },
  {
   "cell_type": "markdown",
   "metadata": {},
   "source": [
    "If you're not familiar with for loops or iterators, do not worry. You will cover these later on. What is important to know is that <span class=\"girk\">len()</span> is a very commonly used function that will allow you to effectively do a number of things in the future."
   ]
  },
  {
   "cell_type": "markdown",
   "metadata": {},
   "source": [
    "#CHALLENGE\n",
    "1"
   ]
  },
  {
   "cell_type": "code",
   "execution_count": 18,
   "metadata": {
    "collapsed": true
   },
   "outputs": [],
   "source": [
    "## STARTER CODE for 4\n",
    "test_string = \"Here is a string of text for you to convert into a list where each word is an element in the list\"\n",
    "list_of_words = test_string.split()"
   ]
  },
  {
   "cell_type": "markdown",
   "metadata": {},
   "source": [
    "<!-- TASK for 4.1 -->\n",
    "The code already provided for you takes a string and uses the <span class=\"girk\">.split()</span> method to split each item up by the blank spacing in between each word. Each word becomes it's own item within a list. Print out <span class=\"girk\">list_of_words</span> to see the end result of these functions."
   ]
  },
  {
   "cell_type": "markdown",
   "metadata": {},
   "source": [
    "<!-- HINT for 4.1 -->\n",
    "Just print the <span class=\"girk\">list_of_words</span> variable as you would with any other function."
   ]
  },
  {
   "cell_type": "code",
   "execution_count": 25,
   "metadata": {},
   "outputs": [
    {
     "name": "stdout",
     "output_type": "stream",
     "text": [
      "K44: Great job\n"
     ]
    }
   ],
   "source": [
    "## TEST for 4.1\n",
    "try:\n",
    "    assert re.search(r\"list_of_words[\\)\\s]*?$\", In[24]), \"Make sure you print the list list_of_words\"\n",
    "    print(\"K44: Great job\")\n",
    "except AssertionError as e:\n",
    "    print(e.args[0])"
   ]
  },
  {
   "cell_type": "code",
   "execution_count": null,
   "metadata": {
    "collapsed": true
   },
   "outputs": [],
   "source": [
    "#SOLUTION\n",
    "test_string = \"Here is a string of text for you to convert into a list where each word is an element in the list. I've added another sentence here with 18 additional words, so the total number of words is now 40\"\n",
    "list_of_words = test_string.split()\n",
    "\n",
    "print(list_of_words)"
   ]
  },
  {
   "cell_type": "code",
   "execution_count": null,
   "metadata": {
    "collapsed": true
   },
   "outputs": [],
   "source": [
    "#CHALLENGE\n",
    "2"
   ]
  },
  {
   "cell_type": "code",
   "execution_count": null,
   "metadata": {
    "collapsed": true
   },
   "outputs": [],
   "source": [
    "#STARTER\n",
    "-"
   ]
  },
  {
   "cell_type": "markdown",
   "metadata": {},
   "source": [
    "<!-- TASK for 4.2 -->\n",
    "Use <span class=\"girk\">len()</span> to view the length of the <span class=\"girk\">list_of_words</span> list we've created for you."
   ]
  },
  {
   "cell_type": "markdown",
   "metadata": {},
   "source": [
    "<!-- HINT for 4.2 -->\n",
    "Make sure you pass the list <span class=\"girk\">list_of_words</span> into the <span class=\"girk\">len()</span> function."
   ]
  },
  {
   "cell_type": "code",
   "execution_count": null,
   "metadata": {
    "collapsed": true
   },
   "outputs": [],
   "source": [
    "## SOLUTION CODE for 4.2\n",
    "test_string = \"Here is a string of text for you to convert into a list where each word is an element in the list. I've added another sentence here with 18 additional words, so the total number of words is now 40\"\n",
    "list_of_words = test_string.split()\n",
    "\n",
    "print(list_of_words)\n",
    "len(list_of_words)"
   ]
  },
  {
   "cell_type": "code",
   "execution_count": 26,
   "metadata": {},
   "outputs": [
    {
     "name": "stdout",
     "output_type": "stream",
     "text": [
      "K44: Success\n"
     ]
    }
   ],
   "source": [
    "## TEST for 4.2\n",
    "\n",
    "try:\n",
    "    assert re.search(r\"len\\(\\s*?list_of_words\\s*?\\)\", In[24]), \"Make sure you pass list_of_words into len()\"\n",
    "    print(\"K44: Success\")\n",
    "except AssertionError as e:\n",
    "    print(e.args[0])"
   ]
  },
  {
   "cell_type": "markdown",
   "metadata": {},
   "source": [
    "<!-- TASK for 4.3 -->\n",
    "Add another sentence by directly modifying the string <span class=\"girk\">test_string</span>. Then check the length of <span class=\"girk\">list_of_words</span> to see how many words you added."
   ]
  },
  {
   "cell_type": "markdown",
   "metadata": {},
   "source": [
    "<!-- HINT for 4.3 -->\n",
    "Directly edit the test_string text and then run the cell again."
   ]
  },
  {
   "cell_type": "code",
   "execution_count": 27,
   "metadata": {},
   "outputs": [
    {
     "name": "stdout",
     "output_type": "stream",
     "text": [
      "K44: WORD! Good work :)\n"
     ]
    }
   ],
   "source": [
    "## TEST for 4.3\n",
    "try:\n",
    "    assert len(list_of_words) > 22, \"Make sure you add at least one additional word to the original test_string\"\n",
    "    print(\"K44: WORD! Good work :)\")\n",
    "except AssertionError as e:\n",
    "    print(e.args[0])"
   ]
  },
  {
   "cell_type": "markdown",
   "metadata": {},
   "source": [
    "<!-- TITLE for 5 -->\n",
    "## Count, Pop & Remove"
   ]
  },
  {
   "cell_type": "markdown",
   "metadata": {},
   "source": [
    "<!-- CONCEPT for 5 -->\n",
    "So you've just learned how to find the total length of a list. Now, we'll review three new methods to use when modifying lists, <span class=\"girk\">.count()</span>, <span class=\"girk\">.pop()</span>, and <span class=\"girk\">.remove()</span>"
   ]
  },
  {
   "cell_type": "markdown",
   "metadata": {},
   "source": [
    "The first, <span class=\"girk\">.count()</span>, will give you a count of the number of times a specified element appears in the list. For example, <pre>my_list.count(\"is\")</pre> would search the list for \"is\" and see how many times it is found in the list. "
   ]
  },
  {
   "cell_type": "code",
   "execution_count": null,
   "metadata": {
    "collapsed": true
   },
   "outputs": [],
   "source": [
    "#CHALLENGE\n",
    "1"
   ]
  },
  {
   "cell_type": "code",
   "execution_count": null,
   "metadata": {
    "collapsed": true
   },
   "outputs": [],
   "source": [
    "#STARTER\n",
    "test_string = \"Here is a string of text for you to convert into a list where each word is an element in the list\"\n",
    "list_of_words = test_string.split()"
   ]
  },
  {
   "cell_type": "markdown",
   "metadata": {},
   "source": [
    "<!-- TASK for 5.1 -->\n",
    "Count the number of times the word <span class=\"girk\">\"of\"</span> occurs within <span class=\"girk\">list_of_words</span>."
   ]
  },
  {
   "cell_type": "markdown",
   "metadata": {},
   "source": [
    "<!-- HINT for 5.1 -->\n",
    "Remember to use <span class=\"girk\">.count()</span> and to pass <span class=\"girk\">\"of\"</span> as the value to <span class=\"girk\">.count()</span>."
   ]
  },
  {
   "cell_type": "code",
   "execution_count": 529,
   "metadata": {
    "scrolled": true
   },
   "outputs": [
    {
     "name": "stdout",
     "output_type": "stream",
     "text": [
      "K44: Great job\n"
     ]
    }
   ],
   "source": [
    "## TEST for 5.1\n",
    "try:\n",
    "    assert re.search(r\"list_of_words\\.count\\(\\s*?[\\\"']of[\\\"']\\s*?\\)\", In[528]), \"Remember to pass 'of' into .count()\"\n",
    "    print(\"K44: Great job\")\n",
    "except AssertionError as e:\n",
    "    print(e.args[0])"
   ]
  },
  {
   "cell_type": "markdown",
   "metadata": {},
   "source": [
    "You will also use <span class=\"girk\">.remove()</span> which will remove the first instance of a defined value from the list. For example, <pre>my_list.remove(\"is\")</pre> would remove the first instance of the word \"is\" from the list. "
   ]
  },
  {
   "cell_type": "code",
   "execution_count": null,
   "metadata": {
    "collapsed": true
   },
   "outputs": [],
   "source": [
    "#CHALLENGE\n",
    "2"
   ]
  },
  {
   "cell_type": "code",
   "execution_count": null,
   "metadata": {
    "collapsed": true
   },
   "outputs": [],
   "source": [
    "#STARTER\n",
    "-"
   ]
  },
  {
   "cell_type": "markdown",
   "metadata": {},
   "source": [
    "<!-- TASK for 5.2 -->\n",
    "Remove the first instance of the word <span class=\"girk\">\"of\"</span> from <span class=\"girk\">list_of_words</span>."
   ]
  },
  {
   "cell_type": "markdown",
   "metadata": {},
   "source": [
    "<!-- HINT for 5.2 -->\n",
    "Remember to use <span class=\"girk\">.remove()</span> and to pass <span class=\"girk\">\"of\"</span> as the value to <span class=\"girk\">.remove()</span>."
   ]
  },
  {
   "cell_type": "code",
   "execution_count": null,
   "metadata": {
    "collapsed": true
   },
   "outputs": [],
   "source": [
    "## TEST for 5.2\n",
    "try:\n",
    "    assert re.search(r\"list_of_words\\.remove\\(\\s*?[\\\"']of[\\\"']\\s*?\\)\", In[528]), \"Remember to pass 'of' into .remove()\"\n",
    "    print(\"K44: Great job\")\n",
    "except AssertionError as e:\n",
    "    print(e.args[0])"
   ]
  },
  {
   "cell_type": "code",
   "execution_count": null,
   "metadata": {
    "collapsed": true
   },
   "outputs": [],
   "source": [
    "#CHALLENGE\n",
    "3"
   ]
  },
  {
   "cell_type": "code",
   "execution_count": null,
   "metadata": {
    "collapsed": true
   },
   "outputs": [],
   "source": [
    "#STARTER\n",
    "-"
   ]
  },
  {
   "cell_type": "markdown",
   "metadata": {},
   "source": [
    "<!-- TASK for 5.3 -->\n",
    "Count the number of times the word <span class='girk'>\"of\"</span> occurs within the <span class='girk'>list_of_words</span> now."
   ]
  },
  {
   "cell_type": "markdown",
   "metadata": {},
   "source": [
    "<!-- HINT for 5.3 -->\n",
    "Remember to use <span class=\"girk\">.count()</span> and to pass <span class=\"girk\">\"of\"</span> as the value to <span class=\"girk\">.count()</span>."
   ]
  },
  {
   "cell_type": "code",
   "execution_count": null,
   "metadata": {
    "collapsed": true
   },
   "outputs": [],
   "source": [
    "## TEST for 5.3\n",
    "try:\n",
    "    assert re.search(r\"list_of_words\\.count\\(\\s*?[\\\"']of[\\\"']\\s*?\\)\", In[528]), \"Remember to pass 'of' into .count()\"\n",
    "    print(\"K44: Great job\")\n",
    "except AssertionError as e:\n",
    "    print(e.args[0])"
   ]
  },
  {
   "cell_type": "markdown",
   "metadata": {},
   "source": [
    "Finally, <span class=\"girk\">.pop()</span> takes the last value from the list (by default), removes it, and then returns the value that was removed. You may also specify the index location of the value you want to remove by passing that integer value into <span class=\"girk\">.pop()</span>."
   ]
  },
  {
   "cell_type": "code",
   "execution_count": null,
   "metadata": {
    "collapsed": true
   },
   "outputs": [],
   "source": [
    "#CHALLENGE\n",
    "4"
   ]
  },
  {
   "cell_type": "code",
   "execution_count": 169,
   "metadata": {
    "collapsed": true
   },
   "outputs": [],
   "source": [
    "## STARTER CODE for 5\n",
    "-"
   ]
  },
  {
   "cell_type": "markdown",
   "metadata": {},
   "source": [
    "<!-- TASK for 5.4 -->\n",
    "Remove the last element from list_of_words and return that value using <span class=\"girk\">.pop()</span>."
   ]
  },
  {
   "cell_type": "markdown",
   "metadata": {},
   "source": [
    "<!-- HINT for 5.4 -->\n",
    "Remember to use <span class=\"girk\">.pop()</span> on <span class=\"girk\">list_of_words</span>."
   ]
  },
  {
   "cell_type": "code",
   "execution_count": 530,
   "metadata": {},
   "outputs": [
    {
     "name": "stdout",
     "output_type": "stream",
     "text": [
      "K44: Great job\n"
     ]
    }
   ],
   "source": [
    "## TEST for 5.4\n",
    "try:\n",
    "    assert re.search(r\"list_of_words\\.pop\\(\\s*?\\)\", In[528]), \"Remember to append .pop() to list_of_words\"\n",
    "    print(\"K44: Great job\")\n",
    "except AssertionError as e:\n",
    "    print(e.args[0])"
   ]
  },
  {
   "cell_type": "markdown",
   "metadata": {},
   "source": [
    "<!-- TASK for 5.5 -->\n",
    "Check the length of the list now to see how many items are left in the list"
   ]
  },
  {
   "cell_type": "markdown",
   "metadata": {},
   "source": [
    "<!-- HINT for 5.5 -->\n",
    "Remember you can check the length of items by using <span class=\"girk\">len()</span>."
   ]
  },
  {
   "cell_type": "code",
   "execution_count": 531,
   "metadata": {},
   "outputs": [
    {
     "name": "stdout",
     "output_type": "stream",
     "text": [
      "K44: Success\n"
     ]
    }
   ],
   "source": [
    "## TEST for 5.5\n",
    "try:\n",
    "    assert re.search(r\"len\\(\\s*?list_of_words\\s*?\\)\", In[528]), \"Make sure you pass list_of_words into len()\"\n",
    "    print(\"K44: Success\")\n",
    "except AssertionError as e:\n",
    "    print(e.args[0])"
   ]
  },
  {
   "cell_type": "markdown",
   "metadata": {},
   "source": [
    "<!-- TASK for 5.6 -->\n",
    "Use <span class='girk'>.pop()</span> to remove the first value from the list."
   ]
  },
  {
   "cell_type": "markdown",
   "metadata": {},
   "source": [
    "<!-- HINT for 5.6 -->\n",
    "Remember that you can pass the integer value of the index position to pop that value from the list and that the first value is at index position 0."
   ]
  },
  {
   "cell_type": "code",
   "execution_count": 532,
   "metadata": {},
   "outputs": [
    {
     "name": "stdout",
     "output_type": "stream",
     "text": [
      "K44: Great job\n"
     ]
    }
   ],
   "source": [
    "## TEST for 5.6\n",
    "try:\n",
    "    assert re.search(r\"list_of_words\\.pop\\(\\s*?0\\s*?\\)\", In[528]), \"Remember to pass 0 into .pop()\"\n",
    "    print(\"K44: Great job\")\n",
    "except AssertionError as e:\n",
    "    print(e.args[0])"
   ]
  },
  {
   "cell_type": "markdown",
   "metadata": {},
   "source": [
    "<!-- TASK for 5.7 -->\n",
    "Check the length of the list now to see how many items are left in the list"
   ]
  },
  {
   "cell_type": "markdown",
   "metadata": {},
   "source": [
    "<!-- HINT for 5.7 -->\n",
    "Remember you can check the length of items by using <span class=\"girk\">len()</span>."
   ]
  },
  {
   "cell_type": "code",
   "execution_count": null,
   "metadata": {
    "collapsed": true
   },
   "outputs": [],
   "source": [
    "## TEST for 5.7\n",
    "try:\n",
    "    assert re.search(r\"len\\(\\s*?list_of_words\\s*?\\)\", In[528]), \"Make sure you pass list_of_words into len()\"\n",
    "    print(\"K44: Success\")\n",
    "except AssertionError as e:\n",
    "    print(e.args[0])"
   ]
  },
  {
   "cell_type": "code",
   "execution_count": 528,
   "metadata": {},
   "outputs": [
    {
     "data": {
      "text/plain": [
       "37"
      ]
     },
     "execution_count": 528,
     "metadata": {},
     "output_type": "execute_result"
    }
   ],
   "source": [
    "## SOLUTION CODE for 5\n",
    "test_string = \"Here is a string of text for you to convert into a list where each word is an element in the list. I've added another sentence here with 18 additional words, so the total number of words is now 40\"\n",
    "list_of_words = list(test_string.split())\n",
    "\n",
    "list_of_words.count('of')\n",
    "list_of_words.remove(\"of\")\n",
    "list_of_words.count(\"of\")\n",
    "list_of_words.pop()\n",
    "len(list_of_words)\n",
    "list_of_words.pop(0)\n",
    "len(list_of_words)"
   ]
  },
  {
   "cell_type": "markdown",
   "metadata": {},
   "source": [
    "<!-- TITLE for 6 -->\n",
    "## Sorted"
   ]
  },
  {
   "cell_type": "markdown",
   "metadata": {},
   "source": [
    "The <span class=\"girk\">sorted()</span> function allows you to sort any list from low to high values.\n",
    "<pre>miles_ran = [7, 5, 4, 6, 3, 8]\n",
    "sorted(miles_ran)</pre>\n",
    "<samp>[3, 4, 5, 6, 7, 8]</samp>"
   ]
  },
  {
   "cell_type": "markdown",
   "metadata": {},
   "source": [
    "Within the <span class=\"girk\">sorted()</span> function you can set the <span class=\"girk\">reverse</span> parameter equal to <span class=\"girk\">True</span> to sort a list from high to low values.\n",
    "<pre>miles_ran = [7, 5, 4, 6, 3, 8]\n",
    "sorted(miles_ran, reverse=True)</pre>\n",
    "<samp>[8, 7, 6, 5, 4, 3]</samp>"
   ]
  },
  {
   "cell_type": "code",
   "execution_count": 1,
   "metadata": {},
   "outputs": [
    {
     "data": {
      "text/plain": [
       "1"
      ]
     },
     "execution_count": 1,
     "metadata": {},
     "output_type": "execute_result"
    }
   ],
   "source": [
    "#CHALLENGE\n",
    "1"
   ]
  },
  {
   "cell_type": "code",
   "execution_count": 29,
   "metadata": {},
   "outputs": [
    {
     "data": {
      "text/plain": [
       "[29984, 11736, 42804, 17407, 5668, 14103, 15851, 6928, 43495, 4063]"
      ]
     },
     "execution_count": 29,
     "metadata": {},
     "output_type": "execute_result"
    }
   ],
   "source": [
    "## STARTER CODE\n",
    "ten_random_integers = [29984, 11736, 42804, 17407, 5668, 14103, 15851, 6928, 43495, 4063]\n",
    "print(ten_random_integers)"
   ]
  },
  {
   "cell_type": "markdown",
   "metadata": {},
   "source": [
    "<!-- TASK for 6.1 -->\n",
    "Run the starter code once to see the list output."
   ]
  },
  {
   "cell_type": "markdown",
   "metadata": {},
   "source": [
    "<!-- HINT for 6.1 -->\n",
    "Just hit the run button once."
   ]
  },
  {
   "cell_type": "code",
   "execution_count": null,
   "metadata": {
    "collapsed": true
   },
   "outputs": [],
   "source": [
    "## TEST for 6.1\n",
    "try:\n",
    "    print(\"K44: Great job\")\n",
    "except AssertionError as e:\n",
    "    print(e.args[0])"
   ]
  },
  {
   "cell_type": "markdown",
   "metadata": {},
   "source": [
    "<!-- TASK for 6.2 -->\n",
    "Sort the <span class=\"girk\">ten_random_integers</span> list."
   ]
  },
  {
   "cell_type": "markdown",
   "metadata": {},
   "source": [
    "<!-- HINT for 6.2 -->\n",
    "Pass <span class=\"girk\">ten_random_integers</span> into the <span class=\"girk\">sorted()</span> function."
   ]
  },
  {
   "cell_type": "code",
   "execution_count": 8,
   "metadata": {},
   "outputs": [
    {
     "name": "stdout",
     "output_type": "stream",
     "text": [
      "Make sure you pass ten_random_integers into sorted()\n"
     ]
    }
   ],
   "source": [
    "## TEST for 6.2\n",
    "try:\n",
    "    assert re.search(r\"sorted\\(\\s*?ten_random_integers\\s*?\\)\", In[7]), \"Make sure you pass ten_random_integers into sorted()\"\n",
    "    print(\"K44: Success\")\n",
    "except AssertionError as e:\n",
    "    print(e.args[0])"
   ]
  },
  {
   "cell_type": "markdown",
   "metadata": {},
   "source": [
    "<!-- TASK for 6.3 -->\n",
    "Pop the last element from the sorted list. In this case it should be the highest number in the list."
   ]
  },
  {
   "cell_type": "markdown",
   "metadata": {},
   "source": [
    "<!-- HINT for 6.3 -->\n",
    "Place <span class=\"girk\">.pop()</span> on the outside of the <span class=\"girk\">sorted()</span> parenthesis to ensure that you sort the list first and then remove and return the last element."
   ]
  },
  {
   "cell_type": "code",
   "execution_count": null,
   "metadata": {
    "collapsed": true
   },
   "outputs": [],
   "source": [
    "## TEST for 6.3\n",
    "try:\n",
    "    assert re.search(r\"sorted\\(\\s*?ten_random_integers\\s*?\\)\", In[20]), \"Make sure you pass ten_random_integers into sorted()\"\n",
    "    assert re.search(r\"sorted\\(\\s*?ten_random_integers\\s*?\\)\\.pop\\(\", In[20]), \"Make sure you add .pop() to the outside of sorted()\"\n",
    "    print(\"K44: Success\")\n",
    "except AssertionError as e:\n",
    "    print(e.args[0])"
   ]
  },
  {
   "cell_type": "code",
   "execution_count": null,
   "metadata": {
    "collapsed": true
   },
   "outputs": [],
   "source": [
    "## SOLUTION CODE for 6.1\n",
    "ten_random_integers = [29984, 11736, 42804, 17407, 5668, 14103, 15851, 6928, 43495, 4063]\n",
    "ten_random_integers\n",
    "\n",
    "sorted(ten_random_integers)  # task 1\n",
    "sorted(ten_random_integers).pop()  # task 2"
   ]
  },
  {
   "cell_type": "code",
   "execution_count": null,
   "metadata": {
    "collapsed": true
   },
   "outputs": [],
   "source": [
    "#CHALLENGE\n",
    "2"
   ]
  },
  {
   "cell_type": "code",
   "execution_count": null,
   "metadata": {
    "collapsed": true
   },
   "outputs": [],
   "source": [
    "## STARTER CODE\n",
    "-"
   ]
  },
  {
   "cell_type": "markdown",
   "metadata": {},
   "source": [
    "<!-- TASK for 6.4 -->\n",
    "Sort the <span class=\"girk\">ten_random_integers</span> list in reverse order."
   ]
  },
  {
   "cell_type": "markdown",
   "metadata": {},
   "source": [
    "<!-- HINT for 6.4 -->\n",
    "Remember to pass <span class=\"girk\">reverse=True</span> as a parameter inside the <span class=\"girk\">sorted(</span>) function."
   ]
  },
  {
   "cell_type": "code",
   "execution_count": null,
   "metadata": {
    "collapsed": true
   },
   "outputs": [],
   "source": [
    "## TEST for 6.4\n",
    "try:\n",
    "    assert re.search(r\"sorted\\(\\s*?ten_random_integers\", In[20]), \"Make sure you pass ten_random_integers into sorted()\"\n",
    "    assert re.search(r\"reverse\\s*?=\\s*?True\", In[20]), \"Make sure you set reverse=True and note capitalization is important!\"\n",
    "    print(\"K44: Success\")\n",
    "except AssertionError as e:\n",
    "    print(e.args[0])"
   ]
  },
  {
   "cell_type": "markdown",
   "metadata": {},
   "source": [
    "<!-- TASK for 6.5 -->\n",
    "Keeping the <span class=\"girk\">reverse=True</span> parameter, pop off the last value in the list. This should be the smallest value in the list."
   ]
  },
  {
   "cell_type": "markdown",
   "metadata": {},
   "source": [
    "<!-- HINT for 6.5 -->\n",
    "Place <span class=\"girk\">.pop()</span> on the outside of the <span class=\"girk\">sorted()</span> parenthesis to ensure that you sort the list first and then remove and return the last element."
   ]
  },
  {
   "cell_type": "code",
   "execution_count": null,
   "metadata": {
    "collapsed": true
   },
   "outputs": [],
   "source": [
    "## TEST for 6.5\n",
    "try:\n",
    "    assert re.search(r\"sorted\\(\\s*?ten_random_integers\", In[20]), \"Make sure you pass ten_random_integers into sorted()\"\n",
    "    assert re.search(r\"reverse\\s*?=\\s*?True\", In[20]), \"Make sure you set reverse=True and note capitalization is important!\"\n",
    "    assert re.search(r\"\\)\\.pop\\(\", In[20]), \"Make sure you call .pop() outside of the sorted() function\"\n",
    "    print(\"K44: Success\")\n",
    "except AssertionError as e:\n",
    "    print(e.args[0])"
   ]
  },
  {
   "cell_type": "code",
   "execution_count": 457,
   "metadata": {},
   "outputs": [
    {
     "data": {
      "text/plain": [
       "8296"
      ]
     },
     "execution_count": 457,
     "metadata": {},
     "output_type": "execute_result"
    }
   ],
   "source": [
    "## SOLUTION CODE for 6\n",
    "ten_random_integers = [29984, 11736, 42804, 17407, 5668, 14103, 15851, 6928, 43495, 4063]\n",
    "ten_random_integers\n",
    "\n",
    "sorted(ten_random_integers)  # task 1\n",
    "sorted(ten_random_integers).pop()  # task 2\n",
    "sorted(ten_random_integers, reverse=True)  # task 3\n",
    "sorted(ten_random_integers, reverse=True).pop()  # task 4"
   ]
  }
 ],
 "metadata": {
  "celltoolbar": "Edit Metadata",
  "kernelspec": {
   "display_name": "Python 3",
   "language": "python",
   "name": "python3"
  },
  "language_info": {
   "codemirror_mode": {
    "name": "ipython",
    "version": 3
   },
   "file_extension": ".py",
   "mimetype": "text/x-python",
   "name": "python",
   "nbconvert_exporter": "python",
   "pygments_lexer": "ipython3",
   "version": "3.6.3"
  }
 },
 "nbformat": 4,
 "nbformat_minor": 2
}
